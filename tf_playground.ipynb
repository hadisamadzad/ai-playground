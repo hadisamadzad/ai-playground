{
  "nbformat": 4,
  "nbformat_minor": 0,
  "metadata": {
    "colab": {
      "name": "tf-playground.ipynb",
      "provenance": [],
      "collapsed_sections": [],
      "authorship_tag": "ABX9TyNJtZoTDZ/1Z5b4/9oM3BbX",
      "include_colab_link": true
    },
    "kernelspec": {
      "name": "python3",
      "display_name": "Python 3"
    },
    "language_info": {
      "name": "python"
    }
  },
  "cells": [
    {
      "cell_type": "markdown",
      "metadata": {
        "id": "view-in-github",
        "colab_type": "text"
      },
      "source": [
        "<a href=\"https://colab.research.google.com/github/hadisamadzad/ai-playground/blob/main/tf_playground.ipynb\" target=\"_parent\"><img src=\"https://colab.research.google.com/assets/colab-badge.svg\" alt=\"Open In Colab\"/></a>"
      ]
    },
    {
      "cell_type": "code",
      "source": [
        "import numpy as np\n",
        "import tensorflow as tf\n",
        "from tensorflow.keras.layers import Dense\n",
        "\n",
        "x = np.array([[200.0, 17.0]])\n",
        "layer_1 = Dense(units=3, activation='sigmoid')\n",
        "a1 = layer_1(x)\n",
        "\n",
        "print(a1)\n",
        "\n",
        "layer_2 = Dense(units=1, activation='sigmoid')\n",
        "a2 = layer_2(a1)\n",
        "\n",
        "print(a2)\n",
        "print('End')"
      ],
      "metadata": {
        "colab": {
          "base_uri": "https://localhost:8080/"
        },
        "id": "4_nTQ6BgWKsU",
        "outputId": "4fa4d49b-9d05-4db8-f4d8-7eef64fd5f84"
      },
      "execution_count": 1,
      "outputs": [
        {
          "output_type": "stream",
          "name": "stdout",
          "text": [
            "tf.Tensor([[1. 0. 0.]], shape=(1, 3), dtype=float32)\n",
            "tf.Tensor([[0.42488924]], shape=(1, 1), dtype=float32)\n"
          ]
        }
      ]
    }
  ]
}